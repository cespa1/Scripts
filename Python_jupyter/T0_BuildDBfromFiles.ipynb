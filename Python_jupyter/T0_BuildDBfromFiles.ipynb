{
 "cells": [
  {
   "cell_type": "markdown",
   "metadata": {},
   "source": [
    " ![CellphoneDB Logo](https://www.cellphonedb.org/images/cellphonedb_logo_33.png)  CellphoneDB is a publicly available repository of curated receptors, ligands and their interactions."
   ]
  },
  {
   "cell_type": "markdown",
   "metadata": {},
   "source": [
    "# Build database from files\n",
    "In this notebook we will create the CellphoneDB database from the input files. This is of interest for those users that wish to add/modify interactions to the CellphoneDB repository. \\\n",
    "Steps required:\n",
    ">1) Download CellphoneDB source database (described in the notebook `T0_DownloadDB.ipynb`). \\\n",
    ">2) User can modify input files to add new interactions. \\\n",
    ">3) Build database as shown in this notebook.\n",
    "\n",
    "CellphoneDB will check the integrity of each input file to asses that all partners in the interaction file are present in the proteins/complexes files. If not, a warning will be printed and the user will need to correct this for the database to be consistent. The inputs to generate the database are required to be present within the same folder in the following format:\n",
    "- `interaction_input.csv`\n",
    "- `gene_input.csv`\n",
    "- `complex_input.csv`\n",
    "- `protein_input.csv`\n",
    "- `transcription_factor_input.csv`\n",
    "- `/sources/uniprot_synonyms.tsv`\n",
    "\n",
    "<span style=\"color:red\">**Important**, these files must be named as shown above.</span>"
   ]
  },
  {
   "cell_type": "markdown",
   "metadata": {},
   "source": [
    "### Install CellphoneDB\n",
    "It's recommended to install CellphoneDB within a conda environment"
   ]
  },
  {
   "cell_type": "markdown",
   "metadata": {},
   "source": [
    "> pip install cellphonedb"
   ]
  },
  {
   "cell_type": "code",
   "execution_count": 1,
   "metadata": {},
   "outputs": [],
   "source": [
    "import pandas as pd\n",
    "import glob\n",
    "import os"
   ]
  },
  {
   "cell_type": "markdown",
   "metadata": {},
   "source": [
    "### Load database input files\n"
   ]
  },
  {
   "cell_type": "code",
   "execution_count": 2,
   "metadata": {},
   "outputs": [
    {
     "data": {
      "text/plain": [
       "['gene_input.csv',\n",
       " 'interaction_input.csv',\n",
       " 'cellphonedb.zip',\n",
       " 'sources',\n",
       " 'transcription_factor_input.csv',\n",
       " 'complex_input.csv',\n",
       " 'protein_input.csv']"
      ]
     },
     "execution_count": 2,
     "metadata": {},
     "output_type": "execute_result"
    }
   ],
   "source": [
    "# -- Path where the input files to generate the database are located\n",
    "cpdb_input_dir = '/home/jovyan/cpdb_tutorial/db/v5/' \n",
    "os.listdir(cpdb_input_dir)"
   ]
  },
  {
   "cell_type": "markdown",
   "metadata": {},
   "source": [
    "### Generate database"
   ]
  },
  {
   "cell_type": "markdown",
   "metadata": {},
   "source": [
    "The method `db_utils.create_db` will take the input files from `cpdb_input_dir` and create a `cellphonedb<time stamp>.zip` file in the same folder."
   ]
  },
  {
   "cell_type": "code",
   "execution_count": 3,
   "metadata": {},
   "outputs": [
    {
     "name": "stdout",
     "output_type": "stream",
     "text": [
      "\n",
      "Created /home/jovyan/cpdb_tutorial/db/v5/cellphonedb_08_29_2023_142417.zip successfully\n"
     ]
    }
   ],
   "source": [
    "from cellphonedb.utils import db_utils\n",
    "\n",
    "# -- Creates new database\n",
    "db_utils.create_db(cpdb_input_dir)"
   ]
  },
  {
   "cell_type": "markdown",
   "metadata": {},
   "source": [
    "We proceed to rename the zip file"
   ]
  },
  {
   "cell_type": "code",
   "execution_count": 4,
   "metadata": {},
   "outputs": [],
   "source": [
    "%%bash\n",
    "\n",
    "mv /home/jovyan/cpdb_tutorial/db/v5/cellphonedb_08_29_2023_142417.zip /home/jovyan/cpdb_tutorial/db/v5/cellphonedb.zip"
   ]
  }
 ],
 "metadata": {
  "kernelspec": {
   "display_name": "cpdb-bare-score",
   "language": "python",
   "name": "cpdb-bare-score"
  },
  "language_info": {
   "codemirror_mode": {
    "name": "ipython",
    "version": 3
   },
   "file_extension": ".py",
   "mimetype": "text/x-python",
   "name": "python",
   "nbconvert_exporter": "python",
   "pygments_lexer": "ipython3",
   "version": "3.10.9"
  }
 },
 "nbformat": 4,
 "nbformat_minor": 4
}
