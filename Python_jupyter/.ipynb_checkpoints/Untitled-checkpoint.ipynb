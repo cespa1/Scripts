{
 "cells": [
  {
   "cell_type": "code",
   "execution_count": 3,
   "id": "415a7ee6-03ed-4636-a342-67da65df46a3",
   "metadata": {},
   "outputs": [],
   "source": [
    "import cell2cell as c2c\n",
    "\n",
    "%matplotlib inline\n",
    "\n",
    "import pandas as pd"
   ]
  },
  {
   "cell_type": "code",
   "execution_count": 4,
   "id": "9315b593-aad8-4b70-b3f7-d7e711508f63",
   "metadata": {},
   "outputs": [
    {
     "name": "stdout",
     "output_type": "stream",
     "text": [
      "       Unnamed: 0  s27_O20_C301  s28_O20_C302  s29_O20_C303  s39_CAF30_S1  \\\n",
      "0          MT-CO1        747394       1040206        819349        388260   \n",
      "1          COL1A1         13547          4809          3941       2761276   \n",
      "2             FN1         90669        103693         80150       2149259   \n",
      "3         MT-RNR2        327372        597833        462351         88061   \n",
      "4           KRT14           290           196           119            65   \n",
      "...           ...           ...           ...           ...           ...   \n",
      "16426  AL136162.1            40            95            55             7   \n",
      "16427  AL590644.1            27            52            30            16   \n",
      "16428  AC114956.1            72           112            81             4   \n",
      "16429        FRZB             4             1             5            40   \n",
      "16430  AL356056.2            73           136            91             8   \n",
      "\n",
      "       s40_CAF30_S2  s41_CAF30_S3  \n",
      "0            424058        434427  \n",
      "1           3059562       3170696  \n",
      "2           2499143       2527359  \n",
      "3            148738        150027  \n",
      "4                25            40  \n",
      "...             ...           ...  \n",
      "16426            13            12  \n",
      "16427            12            11  \n",
      "16428             8             8  \n",
      "16429            47            50  \n",
      "16430            13             2  \n",
      "\n",
      "[16431 rows x 7 columns]\n"
     ]
    }
   ],
   "source": [
    "rnaseq = pd.read_csv('/home/scclab/R-L/Caf30.csv')\n",
    "\n",
    "\n",
    "print(rnaseq)"
   ]
  },
  {
   "cell_type": "code",
   "execution_count": 5,
   "id": "937ef244-a7ad-4f42-8f39-8d95f910c039",
   "metadata": {},
   "outputs": [
    {
     "name": "stdout",
     "output_type": "stream",
     "text": [
      "     ligand_gene_symbol receptor_gene_symbol  Score\n",
      "0                SEMA3F               PLXNA3    1.0\n",
      "1                SEMA3F               PLXNA1    1.0\n",
      "2                SEMA3F                 NRP1    1.0\n",
      "3                SEMA3F                 NRP2    1.0\n",
      "4                CX3CL1               CX3CR1    1.0\n",
      "...                 ...                  ...    ...\n",
      "3393                CGA                GPR84    1.0\n",
      "3394               ASIP                 MC1R    1.0\n",
      "3395              VEGFA                ITGB3    1.0\n",
      "3396              APELA                APLNR    1.0\n",
      "3397              VEGFA               GRIN2B    1.0\n",
      "\n",
      "[3398 rows x 3 columns]\n"
     ]
    }
   ],
   "source": [
    "ppi = pd.read_csv('/home/scclab/R-L/ppi.csv')\n",
    "\n",
    "print(ppi)"
   ]
  },
  {
   "cell_type": "code",
   "execution_count": 7,
   "id": "c7615c66-0a05-42e5-a361-4a8711f3392a",
   "metadata": {},
   "outputs": [
    {
     "name": "stdout",
     "output_type": "stream",
     "text": [
      "      #SampleID Groups\n",
      "0  s27_O20_C301     G1\n",
      "1  s28_O20_C302     G1\n",
      "2  s29_O20_C303     G1\n",
      "3  s39_CAF30_S1     G2\n",
      "4  s40_CAF30_S2     G2\n",
      "5  s41_CAF30_S3     G2\n"
     ]
    }
   ],
   "source": [
    "meta = pd.read_csv('/home/scclab/R-L/Metadata.csv')\n",
    "\n",
    "print(meta)"
   ]
  },
  {
   "cell_type": "code",
   "execution_count": null,
   "id": "2b4e5c0f-cac0-44d2-becb-4ae8b9871b6f",
   "metadata": {},
   "outputs": [],
   "source": []
  }
 ],
 "metadata": {
  "kernelspec": {
   "display_name": "Python 3 (ipykernel)",
   "language": "python",
   "name": "python3"
  },
  "language_info": {
   "codemirror_mode": {
    "name": "ipython",
    "version": 3
   },
   "file_extension": ".py",
   "mimetype": "text/x-python",
   "name": "python",
   "nbconvert_exporter": "python",
   "pygments_lexer": "ipython3",
   "version": "3.10.14"
  }
 },
 "nbformat": 4,
 "nbformat_minor": 5
}
